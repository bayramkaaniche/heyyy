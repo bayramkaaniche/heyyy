{
  "nbformat": 4,
  "nbformat_minor": 0,
  "metadata": {
    "colab": {
      "name": "Untitled16.ipynb",
      "provenance": []
    },
    "kernelspec": {
      "display_name": "Python 3",
      "name": "python3"
    },
    "language_info": {
      "name": "python"
    }
  },
  "cells": [
    {
      "cell_type": "code",
      "metadata": {
        "colab": {
          "base_uri": "https://localhost:8080/"
        },
        "id": "U4q3XvHU9ezO",
        "outputId": "43543d4c-c3cc-4e19-8ced-286f80ee91f7"
      },
      "source": [
        "def binary_search(item_list,item):\n",
        "  first = 0\n",
        "  last=len(item_list)-1\n",
        "  found = False\n",
        "  while (first<=last and not found):\n",
        "    midpoint = (first + last)//2\n",
        "    if item_list[midpoint] == item :\n",
        "      found = True\n",
        "    else:\n",
        "      if item < item_list[midpoint]:\n",
        "        last = midpoint - 1\n",
        "      else:\n",
        "        first = midpoint + 1\n",
        "  return found\n",
        "\n",
        "print(binary_search([1,2,3,5,8], 6))\n",
        "print(binary_search([1,2,3,5,8], 5))"
      ],
      "execution_count": null,
      "outputs": [
        {
          "output_type": "stream",
          "text": [
            "False\n",
            "True\n"
          ],
          "name": "stdout"
        }
      ]
    },
    {
      "cell_type": "code",
      "metadata": {
        "colab": {
          "base_uri": "https://localhost:8080/"
        },
        "id": "AL5deaL1CodM",
        "outputId": "dd92bad2-97cd-4a4e-9c65-bc2b3e770e96"
      },
      "source": [
        "def power(a,b):\n",
        "  if b==0:\n",
        "    return 1\n",
        "  elif a==0:\n",
        "     return 0\n",
        "  elif b==1:\n",
        "       return a\n",
        "  else:\n",
        "    return a*power(a,b-1)\n",
        "print(power(3,4))"
      ],
      "execution_count": null,
      "outputs": [
        {
          "output_type": "stream",
          "text": [
            "81\n"
          ],
          "name": "stdout"
        }
      ]
    },
    {
      "cell_type": "code",
      "metadata": {
        "colab": {
          "base_uri": "https://localhost:8080/"
        },
        "id": "OxO3Xw6xEJcn",
        "outputId": "80a5eb50-311d-475d-a507-9b3aa9aba766"
      },
      "source": [
        "def bubbleSort(nlist):\n",
        "  for passnum in range(len(nlist)-1,0,-1):\n",
        "    for i in range(passnum):\n",
        "      if nlist[i]>nlist[i+1]:\n",
        "        temp = nlist[i]\n",
        "        nlist[i] = nlist[i+1]\n",
        "        nlist[i+1] = temp\n",
        "nlist=[29,13,22,37,52,49,46,71,56]\n",
        "bubbleSort(nlist)\n",
        "print(nlist)"
      ],
      "execution_count": null,
      "outputs": [
        {
          "output_type": "stream",
          "text": [
            "[13, 22, 29, 37, 46, 49, 52, 56, 71]\n"
          ],
          "name": "stdout"
        }
      ]
    },
    {
      "cell_type": "code",
      "metadata": {
        "colab": {
          "base_uri": "https://localhost:8080/"
        },
        "id": "KfFZquZvGfmu",
        "outputId": "be2e9fc1-0a3e-4b98-f210-8d26094c0f6b"
      },
      "source": [
        "def mergeSort(nlist):\n",
        "    if len(nlist)>1:\n",
        "        midpoint = len(nlist)//2\n",
        "        lefthalf = nlist[:midpoint]\n",
        "        righthalf = nlist[midpoint:]\n",
        "\n",
        "        mergeSort(lefthalf)\n",
        "        mergeSort(righthalf)\n",
        "        i=j=k=0       \n",
        "        while i < len(lefthalf) and j < len(righthalf):\n",
        "            if lefthalf[i] < righthalf[j]:\n",
        "                nlist[k]=lefthalf[i]\n",
        "                i=i+1\n",
        "            else:\n",
        "                nlist[k]=righthalf[j]\n",
        "                j=j+1\n",
        "            k=k+1\n",
        "\n",
        "        while i < len(lefthalf):\n",
        "          nlist[k]=lefthalf[i]\n",
        "          i=i+1\n",
        "          k=k+1\n",
        "\n",
        "        while j < len(righthalf):\n",
        "            nlist[k]=righthalf[j]\n",
        "            j=j+1\n",
        "            k=k+1\n",
        "nlist = [29,13,22,37,52,49,46,71,56]\n",
        "mergeSort(nlist)\n",
        "print(nlist)"
      ],
      "execution_count": null,
      "outputs": [
        {
          "output_type": "stream",
          "text": [
            "[13, 22, 29, 37, 46, 49, 52, 56, 71]\n"
          ],
          "name": "stdout"
        }
      ]
    },
    {
      "cell_type": "code",
      "metadata": {
        "colab": {
          "base_uri": "https://localhost:8080/"
        },
        "id": "9thrGRS1QiGB",
        "outputId": "04a8bceb-5bff-4aad-853f-6ec8013a9048"
      },
      "source": [
        "def partition(arr,low,high):\n",
        "   i = ( low-1 )\n",
        "   pivot = arr[high] \n",
        "   for j in range(low , high):\n",
        "     \n",
        "      if arr[j] <= pivot:\n",
        "         \n",
        "         i = i+1\n",
        "         arr[i],arr[j] = arr[j],arr[i]\n",
        "   arr[i+1],arr[high] = arr[high],arr[i+1]\n",
        "   return ( i+1 )\n",
        "\n",
        "def quickSort(arr,low,high):\n",
        "   if low < high:\n",
        "      # index\n",
        "      pi = partition(arr,low,high)\n",
        "\n",
        "      quickSort(arr, low, pi-1)\n",
        "      quickSort(arr, pi+1, high)\n",
        "\n",
        "arr = [29,13,22,37,52,49,46,71,56]\n",
        "quickSort(arr,0,n-1)\n",
        "print (arr)"
      ],
      "execution_count": null,
      "outputs": [
        {
          "output_type": "stream",
          "text": [
            "[13, 22, 29, 37, 46, 49, 52, 56, 71]\n"
          ],
          "name": "stdout"
        }
      ]
    }
  ]
}