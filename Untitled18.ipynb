{
  "nbformat": 4,
  "nbformat_minor": 0,
  "metadata": {
    "colab": {
      "name": "Untitled18.ipynb",
      "provenance": []
    },
    "kernelspec": {
      "name": "python3",
      "display_name": "Python 3"
    },
    "language_info": {
      "name": "python"
    }
  },
  "cells": [
    {
      "cell_type": "code",
      "metadata": {
        "colab": {
          "base_uri": "https://localhost:8080/"
        },
        "id": "2MkNLCeR_b-V",
        "outputId": "92152019-0766-4aa1-b41d-1eef487d132e"
      },
      "source": [
        "import time\n",
        "def countdown(t):\n",
        "    while t:\n",
        "        mins, secs = divmod(t, 60)\n",
        "        timer = '{:02d}:{:02d}'.format(mins, secs)\n",
        "        print(timer, end=\"\\r\")\n",
        "        time.sleep(1)\n",
        "        t -= 1\n",
        "    print('Blast Off!!!')\n",
        "t = input(\"Enter the time in seconds: \") \n",
        "countdown(int(t))"
      ],
      "execution_count": 6,
      "outputs": [
        {
          "output_type": "stream",
          "text": [
            "Enter the time in seconds: 5\n",
            "Blast Off!!!\n"
          ],
          "name": "stdout"
        }
      ]
    }
  ]
}