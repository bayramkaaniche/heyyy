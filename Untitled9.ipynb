{
  "nbformat": 4,
  "nbformat_minor": 0,
  "metadata": {
    "colab": {
      "name": "Untitled9.ipynb",
      "provenance": []
    },
    "kernelspec": {
      "name": "python3",
      "display_name": "Python 3"
    },
    "language_info": {
      "name": "python"
    }
  },
  "cells": [
    {
      "cell_type": "code",
      "metadata": {
        "colab": {
          "base_uri": "https://localhost:8080/"
        },
        "id": "P92nqnGGkQSZ",
        "outputId": "d4cb025a-97f7-4232-98fb-bdfd70cda3f2"
      },
      "source": [
        "from array import *\n",
        "array_num = array('i', [1, 3, 5, 3, 7, 1, 9, 3])\n",
        "print(\"Original array: \"+str(array_num))\n",
        "num_list = array_num.tolist()\n",
        "print(\"Convert the said array to an ordinary list with the same items:\")\n",
        "print(num_list)"
      ],
      "execution_count": 10,
      "outputs": [
        {
          "output_type": "stream",
          "text": [
            "Original array: array('i', [1, 3, 5, 3, 7, 1, 9, 3])\n",
            "Convert the said array to an ordinary list with the same items:\n",
            "[1, 3, 5, 3, 7, 1, 9, 3]\n"
          ],
          "name": "stdout"
        }
      ]
    },
    {
      "cell_type": "code",
      "metadata": {
        "colab": {
          "base_uri": "https://localhost:8080/"
        },
        "id": "bZYtDLLWxi2m",
        "outputId": "c80efb7b-6b11-459e-90d9-6762e6aaf2c3"
      },
      "source": [
        "import numpy as np\n",
        "m = np.arange(6).reshape(2,3)\n",
        "print(\"Original matrix:\")\n",
        "print(m)\n",
        "result =  np.trace(m)\n",
        "print(\"Condition number of the said matrix:\")\n",
        "print(result)"
      ],
      "execution_count": 7,
      "outputs": [
        {
          "output_type": "stream",
          "text": [
            "Original matrix:\n",
            "[[0 1 2]\n",
            " [3 4 5]]\n",
            "Condition number of the said matrix:\n",
            "4\n"
          ],
          "name": "stdout"
        }
      ]
    },
    {
      "cell_type": "code",
      "metadata": {
        "colab": {
          "base_uri": "https://localhost:8080/"
        },
        "id": "TCB-Z6q22r2n",
        "outputId": "5e6bedbe-14ff-4f19-9e4d-bb6e1c00f045"
      },
      "source": [
        "a = np.array([1, 2, 3, 4])\n",
        "a + 1\n",
        "2**a"
      ],
      "execution_count": 18,
      "outputs": [
        {
          "output_type": "execute_result",
          "data": {
            "text/plain": [
              "array([ 2,  4,  8, 16])"
            ]
          },
          "metadata": {
            "tags": []
          },
          "execution_count": 18
        }
      ]
    },
    {
      "cell_type": "code",
      "metadata": {
        "colab": {
          "base_uri": "https://localhost:8080/"
        },
        "id": "18cgesuRnGGK",
        "outputId": "10e771a2-e432-4daf-9be1-d036978c65eb"
      },
      "source": [
        "import numpy as np\n",
        "print(\"Original matrix:\\n\")\n",
        "X = np.random.rand(5, 10)\n",
        "print(X)\n",
        "print(\"\\nSubtract the mean of each row of the said matrix:\\n\")\n",
        "Y = X - X.mean(axis=1, keepdims=True)\n",
        "print(Y)"
      ],
      "execution_count": 8,
      "outputs": [
        {
          "output_type": "stream",
          "text": [
            "Original matrix:\n",
            "\n",
            "[[0.390566   0.21440473 0.75538945 0.16295042 0.74139999 0.54567742\n",
            "  0.6615165  0.67755806 0.05946367 0.65820362]\n",
            " [0.73406183 0.62130776 0.96258692 0.9731117  0.8537316  0.50869771\n",
            "  0.02366109 0.99039728 0.85946402 0.67314275]\n",
            " [0.16620219 0.06167493 0.96054753 0.52113155 0.30808443 0.029534\n",
            "  0.98712912 0.27416011 0.01046027 0.53106461]\n",
            " [0.04967794 0.283945   0.43603855 0.56816862 0.30557148 0.23571666\n",
            "  0.94534183 0.84348482 0.05967019 0.98649221]\n",
            " [0.66521251 0.42106796 0.39685088 0.80473526 0.50611386 0.10243235\n",
            "  0.77682395 0.32883681 0.03613781 0.97313721]]\n",
            "\n",
            "Subtract the mean of each row of the said matrix:\n",
            "\n",
            "[[-0.09614699 -0.27230825  0.26867646 -0.32376256  0.254687    0.05896443\n",
            "   0.17480351  0.19084508 -0.42724931  0.17149064]\n",
            " [ 0.01404557 -0.09870851  0.24257065  0.25309543  0.13371533 -0.21131856\n",
            "  -0.69635517  0.27038101  0.13944775 -0.04687352]\n",
            " [-0.21879668 -0.32332395  0.57554865  0.13613268 -0.07691444 -0.35546487\n",
            "   0.60213025 -0.11083876 -0.3745386   0.14606573]\n",
            " [-0.42173279 -0.18746573 -0.03537218  0.09675789 -0.16583925 -0.23569407\n",
            "   0.4739311   0.37207409 -0.41174054  0.51508148]\n",
            " [ 0.16407765 -0.0800669  -0.10428398  0.3036004   0.004979   -0.39870251\n",
            "   0.27568909 -0.17229805 -0.46499705  0.47200235]]\n"
          ],
          "name": "stdout"
        }
      ]
    }
  ]
}